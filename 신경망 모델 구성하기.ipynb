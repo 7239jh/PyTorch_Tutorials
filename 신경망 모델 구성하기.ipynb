{
 "cells": [
  {
   "cell_type": "code",
   "execution_count": 1,
   "metadata": {},
   "outputs": [],
   "source": [
    "import os\n",
    "import torch\n",
    "from torch import nn\n",
    "from torch.utils.data import DataLoader\n",
    "from torchvision import datasets, transforms"
   ]
  },
  {
   "attachments": {},
   "cell_type": "markdown",
   "metadata": {},
   "source": [
    "### 학습을 위한 장치 얻기"
   ]
  },
  {
   "cell_type": "code",
   "execution_count": 4,
   "metadata": {},
   "outputs": [
    {
     "name": "stdout",
     "output_type": "stream",
     "text": [
      "Using cpu device\n"
     ]
    }
   ],
   "source": [
    "device = \"cuda\" if torch.cuda.is_available() else \"cpu\" \n",
    "print(\"Using {} device\".format(device))"
   ]
  },
  {
   "attachments": {},
   "cell_type": "markdown",
   "metadata": {},
   "source": [
    "### 클래스 정의하기"
   ]
  },
  {
   "cell_type": "code",
   "execution_count": 6,
   "metadata": {},
   "outputs": [
    {
     "name": "stdout",
     "output_type": "stream",
     "text": [
      "NeuralNetwork(\n",
      "  (flatten): Flatten(start_dim=1, end_dim=-1)\n",
      "  (linear_relu_stack): Sequential(\n",
      "    (0): Linear(in_features=784, out_features=512, bias=True)\n",
      "    (1): ReLU()\n",
      "    (2): Linear(in_features=512, out_features=512, bias=True)\n",
      "    (3): ReLU()\n",
      "    (4): Linear(in_features=512, out_features=10, bias=True)\n",
      "  )\n",
      ")\n"
     ]
    }
   ],
   "source": [
    "class NeuralNetwork(nn.Module):\n",
    "    def __init__(self):    # nn.Module 상속\n",
    "        super().__init__()\n",
    "        self.flatten = nn.Flatten()\n",
    "        self.linear_relu_stack = nn.Sequential(\n",
    "            nn.Linear(28*28, 512),\n",
    "            nn.ReLU(),\n",
    "            nn.Linear(512, 512),\n",
    "            nn.ReLU(),\n",
    "            nn.Linear(512, 10),\n",
    "        )\n",
    "\n",
    "    def forward(self, x):\n",
    "        x = self.flatten(x)\n",
    "        logits = self.linear_relu_stack(x)\n",
    "        return logits\n",
    "\n",
    "model = NeuralNetwork().to(device)\n",
    "print(model)"
   ]
  },
  {
   "cell_type": "code",
   "execution_count": 13,
   "metadata": {},
   "outputs": [
    {
     "name": "stdout",
     "output_type": "stream",
     "text": [
      "logits:tensor([[ 0.0334, -0.0630, -0.0259,  0.0530,  0.0172, -0.1379, -0.0577, -0.0708,\n",
      "         -0.0124,  0.0096]], grad_fn=<AddmmBackward0>)\n",
      "pred_probab:tensor([[0.1059, 0.0962, 0.0998, 0.1080, 0.1042, 0.0892, 0.0967, 0.0954, 0.1012,\n",
      "         0.1034]], grad_fn=<SoftmaxBackward0>)\n",
      "y_pred:tensor([3])\n"
     ]
    }
   ],
   "source": [
    "X = torch.rand(1, 28, 28, device=device)\n",
    "logits = model(X)  \n",
    "pred_probab = nn.Softmax(dim=1)(logits) # 각 클래스에 대한 확률로 바꿈\n",
    "y_pred = pred_probab.argmax(1) # 가장 확률이 높은 인덱스 1개 뽑아냄\n",
    "print('logits:{}'.format(logits))\n",
    "print('pred_probab:{}'.format(pred_probab))\n",
    "print(\"y_pred:{}\".format(y_pred))"
   ]
  },
  {
   "attachments": {},
   "cell_type": "markdown",
   "metadata": {},
   "source": [
    "### 모델 계층(Layer)"
   ]
  },
  {
   "cell_type": "code",
   "execution_count": 14,
   "metadata": {},
   "outputs": [
    {
     "name": "stdout",
     "output_type": "stream",
     "text": [
      "torch.Size([3, 28, 28])\n"
     ]
    }
   ],
   "source": [
    "input_image = torch.rand(3,28,28) # 예시로 28*28 크기의 이미지 3개 만들어보자\n",
    "print(input_image.size())"
   ]
  },
  {
   "attachments": {},
   "cell_type": "markdown",
   "metadata": {},
   "source": [
    "#### nn.Flatten"
   ]
  },
  {
   "cell_type": "code",
   "execution_count": 16,
   "metadata": {},
   "outputs": [
    {
     "name": "stdout",
     "output_type": "stream",
     "text": [
      "torch.Size([3, 784])\n"
     ]
    }
   ],
   "source": [
    "# 28,28차원을 784차원으로 변환\n",
    "flatten=nn.Flatten()    \n",
    "flat_image=flatten(input_image)\n",
    "print(flat_image.size())"
   ]
  },
  {
   "attachments": {},
   "cell_type": "markdown",
   "metadata": {},
   "source": [
    "#### nn.Linear"
   ]
  },
  {
   "cell_type": "code",
   "execution_count": 19,
   "metadata": {},
   "outputs": [
    {
     "name": "stdout",
     "output_type": "stream",
     "text": [
      "torch.Size([3, 20])\n"
     ]
    }
   ],
   "source": [
    "layer1=nn.Linear(in_features=28*28,out_features=20) # in_features=input 데이터 차원, out_features=output 데이터 차원\n",
    "hidden1=layer1(flat_image) \n",
    "print(hidden1.size())"
   ]
  },
  {
   "attachments": {},
   "cell_type": "markdown",
   "metadata": {},
   "source": [
    "#### nn.ReLU"
   ]
  },
  {
   "cell_type": "code",
   "execution_count": 20,
   "metadata": {},
   "outputs": [
    {
     "name": "stdout",
     "output_type": "stream",
     "text": [
      "Before ReLU: tensor([[ 0.2201,  0.1618, -0.1684, -0.0122,  0.1241,  0.0067, -0.2204, -0.2363,\n",
      "          0.2618,  0.2695,  0.3982, -0.3587, -0.1195,  0.6936,  0.2302,  0.0609,\n",
      "         -0.6342,  0.1723,  0.0817,  0.3248],\n",
      "        [ 0.3933,  0.1166, -0.1470, -0.0784,  0.4659, -0.0283, -0.0739, -0.3091,\n",
      "          0.0106,  0.1180,  0.1847, -0.3550, -0.0357,  0.7508,  0.2445,  0.2790,\n",
      "         -0.4287, -0.0636, -0.0862,  0.0605],\n",
      "        [ 0.0721,  0.4616,  0.2859, -0.0542, -0.0344,  0.2669, -0.0046, -0.0979,\n",
      "          0.2971,  0.0724, -0.0419, -0.0523,  0.0463,  0.6906,  0.3039,  0.0129,\n",
      "         -0.4447,  0.0712,  0.3650, -0.0358]], grad_fn=<AddmmBackward0>)\n",
      "\n",
      "\n",
      "After ReLU: tensor([[0.2201, 0.1618, 0.0000, 0.0000, 0.1241, 0.0067, 0.0000, 0.0000, 0.2618,\n",
      "         0.2695, 0.3982, 0.0000, 0.0000, 0.6936, 0.2302, 0.0609, 0.0000, 0.1723,\n",
      "         0.0817, 0.3248],\n",
      "        [0.3933, 0.1166, 0.0000, 0.0000, 0.4659, 0.0000, 0.0000, 0.0000, 0.0106,\n",
      "         0.1180, 0.1847, 0.0000, 0.0000, 0.7508, 0.2445, 0.2790, 0.0000, 0.0000,\n",
      "         0.0000, 0.0605],\n",
      "        [0.0721, 0.4616, 0.2859, 0.0000, 0.0000, 0.2669, 0.0000, 0.0000, 0.2971,\n",
      "         0.0724, 0.0000, 0.0000, 0.0463, 0.6906, 0.3039, 0.0129, 0.0000, 0.0712,\n",
      "         0.3650, 0.0000]], grad_fn=<ReluBackward0>)\n"
     ]
    }
   ],
   "source": [
    "print(\"Before ReLU: {}\\n\\n\".format(hidden1))\n",
    "hidden1 = nn.ReLU()(hidden1)\n",
    "print(\"After ReLU: {}\".format(hidden1))  # ReLU를 적용하여 값들이 0~1사이로 바뀜"
   ]
  },
  {
   "attachments": {},
   "cell_type": "markdown",
   "metadata": {},
   "source": [
    "#### nn.Sequential"
   ]
  },
  {
   "cell_type": "code",
   "execution_count": 21,
   "metadata": {},
   "outputs": [],
   "source": [
    "# 모듈 여러개를 순차적으로 쌓을 수 있음\n",
    "seq_modules=nn.Sequential(flatten, layer1, nn.ReLU(),nn.Linear(20,10))\n",
    "input_image=torch.rand(3,28,28)\n",
    "logits=seq_modules(input_image)"
   ]
  },
  {
   "attachments": {},
   "cell_type": "markdown",
   "metadata": {},
   "source": [
    "#### nn.Softmax"
   ]
  },
  {
   "cell_type": "code",
   "execution_count": 22,
   "metadata": {},
   "outputs": [],
   "source": [
    "# logits을 확률로 변환\n",
    "softmax=nn.Softmax(dim=1)\n",
    "pred_probab=softmax(logits)"
   ]
  },
  {
   "attachments": {},
   "cell_type": "markdown",
   "metadata": {},
   "source": [
    "### 모델 매개변수"
   ]
  },
  {
   "cell_type": "code",
   "execution_count": 23,
   "metadata": {},
   "outputs": [
    {
     "name": "stdout",
     "output_type": "stream",
     "text": [
      "Model structure: NeuralNetwork(\n",
      "  (flatten): Flatten(start_dim=1, end_dim=-1)\n",
      "  (linear_relu_stack): Sequential(\n",
      "    (0): Linear(in_features=784, out_features=512, bias=True)\n",
      "    (1): ReLU()\n",
      "    (2): Linear(in_features=512, out_features=512, bias=True)\n",
      "    (3): ReLU()\n",
      "    (4): Linear(in_features=512, out_features=10, bias=True)\n",
      "  )\n",
      ")\n",
      "\n",
      "\n",
      "Layer: linear_relu_stack.0.weight | Size: torch.Size([512, 784]) | Values : tensor([[ 0.0198, -0.0260,  0.0081,  ..., -0.0321, -0.0084,  0.0243],\n",
      "        [ 0.0197, -0.0157,  0.0240,  ...,  0.0216, -0.0148, -0.0022]],\n",
      "       grad_fn=<SliceBackward0>) \n",
      "\n",
      "Layer: linear_relu_stack.0.bias | Size: torch.Size([512]) | Values : tensor([ 0.0326, -0.0059], grad_fn=<SliceBackward0>) \n",
      "\n",
      "Layer: linear_relu_stack.2.weight | Size: torch.Size([512, 512]) | Values : tensor([[-0.0072,  0.0297, -0.0356,  ...,  0.0274,  0.0254, -0.0021],\n",
      "        [-0.0178, -0.0103,  0.0391,  ...,  0.0219, -0.0002,  0.0391]],\n",
      "       grad_fn=<SliceBackward0>) \n",
      "\n",
      "Layer: linear_relu_stack.2.bias | Size: torch.Size([512]) | Values : tensor([ 0.0092, -0.0146], grad_fn=<SliceBackward0>) \n",
      "\n",
      "Layer: linear_relu_stack.4.weight | Size: torch.Size([10, 512]) | Values : tensor([[-0.0016,  0.0078, -0.0174,  ...,  0.0119, -0.0334,  0.0109],\n",
      "        [ 0.0128,  0.0168,  0.0348,  ...,  0.0131,  0.0170,  0.0366]],\n",
      "       grad_fn=<SliceBackward0>) \n",
      "\n",
      "Layer: linear_relu_stack.4.bias | Size: torch.Size([10]) | Values : tensor([0.0012, 0.0418], grad_fn=<SliceBackward0>) \n",
      "\n"
     ]
    }
   ],
   "source": [
    "print(\"Model structure: {}\\n\\n\".format(model))\n",
    "\n",
    "for name, param in model.named_parameters():\n",
    "    print(\"Layer: {} | Size: {} | Values : {} \\n\".format(name,param.size(),param[:2]))"
   ]
  },
  {
   "cell_type": "code",
   "execution_count": null,
   "metadata": {},
   "outputs": [],
   "source": []
  },
  {
   "cell_type": "code",
   "execution_count": null,
   "metadata": {},
   "outputs": [],
   "source": []
  },
  {
   "cell_type": "code",
   "execution_count": null,
   "metadata": {},
   "outputs": [],
   "source": []
  }
 ],
 "metadata": {
  "kernelspec": {
   "display_name": "base",
   "language": "python",
   "name": "python3"
  },
  "language_info": {
   "codemirror_mode": {
    "name": "ipython",
    "version": 3
   },
   "file_extension": ".py",
   "mimetype": "text/x-python",
   "name": "python",
   "nbconvert_exporter": "python",
   "pygments_lexer": "ipython3",
   "version": "3.9.13"
  },
  "orig_nbformat": 4,
  "vscode": {
   "interpreter": {
    "hash": "59c86215cb6667c49c42aaf9f4968b164f63cbe3d18b8d322d177a685e6eefb7"
   }
  }
 },
 "nbformat": 4,
 "nbformat_minor": 2
}
