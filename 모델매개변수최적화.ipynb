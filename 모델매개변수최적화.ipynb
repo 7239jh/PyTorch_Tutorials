{
 "cells": [
  {
   "attachments": {},
   "cell_type": "markdown",
   "metadata": {},
   "source": [
    "### 기본코드"
   ]
  },
  {
   "cell_type": "code",
   "execution_count": 1,
   "metadata": {},
   "outputs": [
    {
     "name": "stdout",
     "output_type": "stream",
     "text": [
      "Downloading http://fashion-mnist.s3-website.eu-central-1.amazonaws.com/train-images-idx3-ubyte.gz\n",
      "Downloading http://fashion-mnist.s3-website.eu-central-1.amazonaws.com/train-images-idx3-ubyte.gz to data\\FashionMNIST\\raw\\train-images-idx3-ubyte.gz\n"
     ]
    },
    {
     "data": {
      "application/vnd.jupyter.widget-view+json": {
       "model_id": "4acb32db9986440283d4710298b3e140",
       "version_major": 2,
       "version_minor": 0
      },
      "text/plain": [
       "  0%|          | 0/26421880 [00:00<?, ?it/s]"
      ]
     },
     "metadata": {},
     "output_type": "display_data"
    },
    {
     "name": "stdout",
     "output_type": "stream",
     "text": [
      "Extracting data\\FashionMNIST\\raw\\train-images-idx3-ubyte.gz to data\\FashionMNIST\\raw\n",
      "\n",
      "Downloading http://fashion-mnist.s3-website.eu-central-1.amazonaws.com/train-labels-idx1-ubyte.gz\n",
      "Downloading http://fashion-mnist.s3-website.eu-central-1.amazonaws.com/train-labels-idx1-ubyte.gz to data\\FashionMNIST\\raw\\train-labels-idx1-ubyte.gz\n"
     ]
    },
    {
     "data": {
      "application/vnd.jupyter.widget-view+json": {
       "model_id": "74111b4c02f24ffcb4d51376c477e6eb",
       "version_major": 2,
       "version_minor": 0
      },
      "text/plain": [
       "  0%|          | 0/29515 [00:00<?, ?it/s]"
      ]
     },
     "metadata": {},
     "output_type": "display_data"
    },
    {
     "name": "stdout",
     "output_type": "stream",
     "text": [
      "Extracting data\\FashionMNIST\\raw\\train-labels-idx1-ubyte.gz to data\\FashionMNIST\\raw\n",
      "\n",
      "Downloading http://fashion-mnist.s3-website.eu-central-1.amazonaws.com/t10k-images-idx3-ubyte.gz\n",
      "Downloading http://fashion-mnist.s3-website.eu-central-1.amazonaws.com/t10k-images-idx3-ubyte.gz to data\\FashionMNIST\\raw\\t10k-images-idx3-ubyte.gz\n"
     ]
    },
    {
     "data": {
      "application/vnd.jupyter.widget-view+json": {
       "model_id": "5a9a25aa79694191be8c4b60f1f0b747",
       "version_major": 2,
       "version_minor": 0
      },
      "text/plain": [
       "  0%|          | 0/4422102 [00:00<?, ?it/s]"
      ]
     },
     "metadata": {},
     "output_type": "display_data"
    },
    {
     "name": "stdout",
     "output_type": "stream",
     "text": [
      "Extracting data\\FashionMNIST\\raw\\t10k-images-idx3-ubyte.gz to data\\FashionMNIST\\raw\n",
      "\n",
      "Downloading http://fashion-mnist.s3-website.eu-central-1.amazonaws.com/t10k-labels-idx1-ubyte.gz\n",
      "Downloading http://fashion-mnist.s3-website.eu-central-1.amazonaws.com/t10k-labels-idx1-ubyte.gz to data\\FashionMNIST\\raw\\t10k-labels-idx1-ubyte.gz\n"
     ]
    },
    {
     "data": {
      "application/vnd.jupyter.widget-view+json": {
       "model_id": "87b52785be0f46fd9efe9b99d35c298e",
       "version_major": 2,
       "version_minor": 0
      },
      "text/plain": [
       "  0%|          | 0/5148 [00:00<?, ?it/s]"
      ]
     },
     "metadata": {},
     "output_type": "display_data"
    },
    {
     "name": "stdout",
     "output_type": "stream",
     "text": [
      "Extracting data\\FashionMNIST\\raw\\t10k-labels-idx1-ubyte.gz to data\\FashionMNIST\\raw\n",
      "\n"
     ]
    }
   ],
   "source": [
    "import torch\n",
    "from torch import nn\n",
    "from torch.utils.data import DataLoader\n",
    "from torchvision import datasets\n",
    "from torchvision.transforms import ToTensor\n",
    "\n",
    "training_data = datasets.FashionMNIST(\n",
    "    root=\"data\",\n",
    "    train=True,\n",
    "    download=True,\n",
    "    transform=ToTensor()\n",
    ")\n",
    "\n",
    "test_data = datasets.FashionMNIST(\n",
    "    root=\"data\",\n",
    "    train=False,\n",
    "    download=True,\n",
    "    transform=ToTensor()\n",
    ")\n",
    "\n",
    "train_dataloader = DataLoader(training_data, batch_size=64)\n",
    "test_dataloader = DataLoader(test_data, batch_size=64)\n",
    "\n",
    "class NeuralNetwork(nn.Module):\n",
    "    def __init__(self):\n",
    "        super(NeuralNetwork, self).__init__()\n",
    "        self.flatten = nn.Flatten()\n",
    "        self.linear_relu_stack = nn.Sequential(\n",
    "            nn.Linear(28*28, 512),\n",
    "            nn.ReLU(),\n",
    "            nn.Linear(512, 512),\n",
    "            nn.ReLU(),\n",
    "            nn.Linear(512, 10),\n",
    "        )\n",
    "\n",
    "    def forward(self, x):\n",
    "        x = self.flatten(x)\n",
    "        logits = self.linear_relu_stack(x)\n",
    "        return logits\n",
    "\n",
    "model = NeuralNetwork()"
   ]
  },
  {
   "attachments": {},
   "cell_type": "markdown",
   "metadata": {},
   "source": [
    "### 하이퍼파라미터"
   ]
  },
  {
   "cell_type": "code",
   "execution_count": 2,
   "metadata": {},
   "outputs": [],
   "source": [
    "learning_rate = 1e-3\n",
    "batch_size = 64\n",
    "epochs = 5"
   ]
  },
  {
   "attachments": {},
   "cell_type": "markdown",
   "metadata": {},
   "source": [
    "### 손실함수"
   ]
  },
  {
   "cell_type": "code",
   "execution_count": 3,
   "metadata": {},
   "outputs": [],
   "source": [
    "loss_fn = nn.CrossEntropyLoss()"
   ]
  },
  {
   "attachments": {},
   "cell_type": "markdown",
   "metadata": {},
   "source": [
    "### 옵티마이저"
   ]
  },
  {
   "cell_type": "code",
   "execution_count": 4,
   "metadata": {},
   "outputs": [],
   "source": [
    "optimizer = torch.optim.SGD(model.parameters(), lr=learning_rate)"
   ]
  },
  {
   "attachments": {},
   "cell_type": "markdown",
   "metadata": {},
   "source": [
    "### 전체 구현"
   ]
  },
  {
   "cell_type": "code",
   "execution_count": 5,
   "metadata": {},
   "outputs": [],
   "source": [
    "def train_loop(dataloader, model, loss_fn, optimizer):\n",
    "    size = len(dataloader.dataset)\n",
    "    for batch, (X, y) in enumerate(dataloader):  # dataloader에서 배치씩 반복함\n",
    "        # 예측(prediction)과 손실(loss) 계산\n",
    "        pred = model(X) # 예측값\n",
    "        loss = loss_fn(pred, y) # loss값\n",
    "\n",
    "        # 역전파\n",
    "        optimizer.zero_grad() # zero_grad():grad값들이 더해지는 것을 막기 위해 루프돌 때 마다 역전파 하기전에 grad 값들을 0으로 초기화 시킨 후 학습 진행 \n",
    "        loss.backward() # 역전파\n",
    "        optimizer.step() # 역전파에서 수집된 grad로 매개변수 조정\n",
    "\n",
    "        if batch % 100 == 0:\n",
    "            loss, current = loss.item(), batch * len(X)\n",
    "            print(f\"loss: {loss:>7f}  [{current:>5d}/{size:>5d}]\")\n",
    "\n",
    "\n",
    "def test_loop(dataloader, model, loss_fn):\n",
    "    size = len(dataloader.dataset)\n",
    "    num_batches = len(dataloader)\n",
    "    test_loss, correct = 0, 0\n",
    "\n",
    "    with torch.no_grad():\n",
    "        for X, y in dataloader:\n",
    "            pred = model(X)\n",
    "            test_loss += loss_fn(pred, y).item()\n",
    "            correct += (pred.argmax(1) == y).type(torch.float).sum().item()\n",
    "\n",
    "    test_loss /= num_batches # test_loss/num_batches\n",
    "    correct /= size\n",
    "    print(f\"Test Error: \\n Accuracy: {(100*correct):>0.1f}%, Avg loss: {test_loss:>8f} \\n\")"
   ]
  },
  {
   "cell_type": "code",
   "execution_count": 6,
   "metadata": {},
   "outputs": [
    {
     "name": "stdout",
     "output_type": "stream",
     "text": [
      "Epoch 1\n",
      "-------------------------------\n",
      "loss: 2.306095  [    0/60000]\n",
      "loss: 2.299719  [ 6400/60000]\n",
      "loss: 2.279140  [12800/60000]\n",
      "loss: 2.268825  [19200/60000]\n",
      "loss: 2.247615  [25600/60000]\n",
      "loss: 2.217066  [32000/60000]\n",
      "loss: 2.231867  [38400/60000]\n",
      "loss: 2.193394  [44800/60000]\n",
      "loss: 2.190137  [51200/60000]\n",
      "loss: 2.157220  [57600/60000]\n",
      "Test Error: \n",
      " Accuracy: 29.4%, Avg loss: 2.152627 \n",
      "\n",
      "Epoch 2\n",
      "-------------------------------\n",
      "loss: 2.166462  [    0/60000]\n",
      "loss: 2.166233  [ 6400/60000]\n",
      "loss: 2.105104  [12800/60000]\n",
      "loss: 2.116839  [19200/60000]\n",
      "loss: 2.073460  [25600/60000]\n",
      "loss: 2.009911  [32000/60000]\n",
      "loss: 2.040689  [38400/60000]\n",
      "loss: 1.962233  [44800/60000]\n",
      "loss: 1.966599  [51200/60000]\n",
      "loss: 1.895323  [57600/60000]\n",
      "Test Error: \n",
      " Accuracy: 52.3%, Avg loss: 1.888531 \n",
      "\n",
      "Epoch 3\n",
      "-------------------------------\n",
      "loss: 1.931108  [    0/60000]\n",
      "loss: 1.903749  [ 6400/60000]\n",
      "loss: 1.781796  [12800/60000]\n",
      "loss: 1.816402  [19200/60000]\n",
      "loss: 1.709342  [25600/60000]\n",
      "loss: 1.665423  [32000/60000]\n",
      "loss: 1.683592  [38400/60000]\n",
      "loss: 1.579996  [44800/60000]\n",
      "loss: 1.606047  [51200/60000]\n",
      "loss: 1.501257  [57600/60000]\n",
      "Test Error: \n",
      " Accuracy: 59.2%, Avg loss: 1.508243 \n",
      "\n",
      "Epoch 4\n",
      "-------------------------------\n",
      "loss: 1.587140  [    0/60000]\n",
      "loss: 1.549291  [ 6400/60000]\n",
      "loss: 1.390336  [12800/60000]\n",
      "loss: 1.462649  [19200/60000]\n",
      "loss: 1.340313  [25600/60000]\n",
      "loss: 1.342983  [32000/60000]\n",
      "loss: 1.359126  [38400/60000]\n",
      "loss: 1.277289  [44800/60000]\n",
      "loss: 1.314844  [51200/60000]\n",
      "loss: 1.221401  [57600/60000]\n",
      "Test Error: \n",
      " Accuracy: 62.9%, Avg loss: 1.236418 \n",
      "\n",
      "Epoch 5\n",
      "-------------------------------\n",
      "loss: 1.319646  [    0/60000]\n",
      "loss: 1.302162  [ 6400/60000]\n",
      "loss: 1.128933  [12800/60000]\n",
      "loss: 1.237620  [19200/60000]\n",
      "loss: 1.110581  [25600/60000]\n",
      "loss: 1.140804  [32000/60000]\n",
      "loss: 1.166342  [38400/60000]\n",
      "loss: 1.097965  [44800/60000]\n",
      "loss: 1.138294  [51200/60000]\n",
      "loss: 1.062058  [57600/60000]\n",
      "Test Error: \n",
      " Accuracy: 64.5%, Avg loss: 1.073118 \n",
      "\n",
      "Epoch 6\n",
      "-------------------------------\n",
      "loss: 1.144206  [    0/60000]\n",
      "loss: 1.151342  [ 6400/60000]\n",
      "loss: 0.962458  [12800/60000]\n",
      "loss: 1.100685  [19200/60000]\n",
      "loss: 0.971143  [25600/60000]\n",
      "loss: 1.007231  [32000/60000]\n",
      "loss: 1.047670  [38400/60000]\n",
      "loss: 0.986315  [44800/60000]\n",
      "loss: 1.025383  [51200/60000]\n",
      "loss: 0.962421  [57600/60000]\n",
      "Test Error: \n",
      " Accuracy: 65.7%, Avg loss: 0.969248 \n",
      "\n",
      "Epoch 7\n",
      "-------------------------------\n",
      "loss: 1.024509  [    0/60000]\n",
      "loss: 1.054727  [ 6400/60000]\n",
      "loss: 0.850791  [12800/60000]\n",
      "loss: 1.010866  [19200/60000]\n",
      "loss: 0.884396  [25600/60000]\n",
      "loss: 0.913788  [32000/60000]\n",
      "loss: 0.969660  [38400/60000]\n",
      "loss: 0.914518  [44800/60000]\n",
      "loss: 0.948469  [51200/60000]\n",
      "loss: 0.896522  [57600/60000]\n",
      "Test Error: \n",
      " Accuracy: 67.1%, Avg loss: 0.899377 \n",
      "\n",
      "Epoch 8\n",
      "-------------------------------\n",
      "loss: 0.937954  [    0/60000]\n",
      "loss: 0.988842  [ 6400/60000]\n",
      "loss: 0.771785  [12800/60000]\n",
      "loss: 0.948334  [19200/60000]\n",
      "loss: 0.827139  [25600/60000]\n",
      "loss: 0.846112  [32000/60000]\n",
      "loss: 0.914485  [38400/60000]\n",
      "loss: 0.866905  [44800/60000]\n",
      "loss: 0.893722  [51200/60000]\n",
      "loss: 0.849517  [57600/60000]\n",
      "Test Error: \n",
      " Accuracy: 68.3%, Avg loss: 0.849400 \n",
      "\n",
      "Epoch 9\n",
      "-------------------------------\n",
      "loss: 0.872221  [    0/60000]\n",
      "loss: 0.940143  [ 6400/60000]\n",
      "loss: 0.712752  [12800/60000]\n",
      "loss: 0.902349  [19200/60000]\n",
      "loss: 0.786403  [25600/60000]\n",
      "loss: 0.795565  [32000/60000]\n",
      "loss: 0.872484  [38400/60000]\n",
      "loss: 0.833719  [44800/60000]\n",
      "loss: 0.852707  [51200/60000]\n",
      "loss: 0.813743  [57600/60000]\n",
      "Test Error: \n",
      " Accuracy: 69.5%, Avg loss: 0.811572 \n",
      "\n",
      "Epoch 10\n",
      "-------------------------------\n",
      "loss: 0.819923  [    0/60000]\n",
      "loss: 0.901509  [ 6400/60000]\n",
      "loss: 0.666373  [12800/60000]\n",
      "loss: 0.867170  [19200/60000]\n",
      "loss: 0.755259  [25600/60000]\n",
      "loss: 0.756764  [32000/60000]\n",
      "loss: 0.838527  [38400/60000]\n",
      "loss: 0.808792  [44800/60000]\n",
      "loss: 0.820725  [51200/60000]\n",
      "loss: 0.785156  [57600/60000]\n",
      "Test Error: \n",
      " Accuracy: 70.8%, Avg loss: 0.781455 \n",
      "\n",
      "Done!\n"
     ]
    }
   ],
   "source": [
    "loss_fn = nn.CrossEntropyLoss()\n",
    "optimizer = torch.optim.SGD(model.parameters(), lr=learning_rate)\n",
    "\n",
    "epochs = 10\n",
    "for t in range(epochs):\n",
    "    print(f\"Epoch {t+1}\\n-------------------------------\")\n",
    "    train_loop(train_dataloader, model, loss_fn, optimizer)\n",
    "    test_loop(test_dataloader, model, loss_fn)\n",
    "print(\"Done!\")"
   ]
  }
 ],
 "metadata": {
  "kernelspec": {
   "display_name": "base",
   "language": "python",
   "name": "python3"
  },
  "language_info": {
   "codemirror_mode": {
    "name": "ipython",
    "version": 3
   },
   "file_extension": ".py",
   "mimetype": "text/x-python",
   "name": "python",
   "nbconvert_exporter": "python",
   "pygments_lexer": "ipython3",
   "version": "3.9.13"
  },
  "orig_nbformat": 4,
  "vscode": {
   "interpreter": {
    "hash": "59c86215cb6667c49c42aaf9f4968b164f63cbe3d18b8d322d177a685e6eefb7"
   }
  }
 },
 "nbformat": 4,
 "nbformat_minor": 2
}
