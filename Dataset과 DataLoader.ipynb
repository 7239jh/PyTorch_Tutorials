{
 "cells": [
  {
   "cell_type": "code",
   "execution_count": 1,
   "metadata": {},
   "outputs": [],
   "source": [
    "import torch\n",
    "from torch.utils.data import Dataset\n",
    "from torchvision import datasets\n",
    "from torchvision.transforms import ToTensor\n",
    "import matplotlib.pyplot as plt"
   ]
  },
  {
   "attachments": {},
   "cell_type": "markdown",
   "metadata": {},
   "source": [
    "### 데이터셋 불러오기"
   ]
  },
  {
   "cell_type": "code",
   "execution_count": 2,
   "metadata": {},
   "outputs": [],
   "source": [
    "training_data = datasets.FashionMNIST(\n",
    "    root=\"D:/mycode/PyTorch_Tutorials//data\",  # 데이터 저장 경로\n",
    "    train=True,  # 학습용인지 테스트용인지\n",
    "    download=True, # root에 데이터가 없으면 새로 다운\n",
    "    transform=ToTensor() # 데이터를 텐서 형태로 변환\n",
    ")\n",
    "\n",
    "test_data = datasets.FashionMNIST(\n",
    "    root=\"D:/mycode/PyTorch_Tutorials//data\",\n",
    "    train=False,\n",
    "    download=True,\n",
    "    transform=ToTensor()\n",
    ")"
   ]
  },
  {
   "attachments": {},
   "cell_type": "markdown",
   "metadata": {},
   "source": [
    "### 파일에서 사용자 정의 데이터셋 만들기"
   ]
  },
  {
   "cell_type": "code",
   "execution_count": 3,
   "metadata": {},
   "outputs": [],
   "source": [
    "# 파이토치 Dataset클래스에서는 __init__, __len__, __getitem__ 은 무조건 필요하다.\n",
    "import os\n",
    "import pandas as pd\n",
    "from torchvision.io import read_image\n",
    "\n",
    "class CustomImageDataset(Dataset):\n",
    "    def __init__(self, annotations_file, img_dir, transform=None, target_transform=None):\n",
    "        self.img_labels = pd.read_csv(annotations_file, names=['file_name', 'label'])  # annotations_file: 정답 저장 파일명\n",
    "        self.img_dir = img_dir   # 이미지 파일 저장 폴더경로\n",
    "        self.transform = transform\n",
    "        self.target_transform = target_transform\n",
    "\n",
    "    def __len__(self): # 데이터셋의 샘플 갯수 반환\n",
    "        return len(self.img_labels)\n",
    "\n",
    "    def __getitem__(self, idx): # 주어진 idx(인덱스)에 해당하는 데이터셋을 불어옴\n",
    "        img_path = os.path.join(self.img_dir, self.img_labels.iloc[idx, 0])\n",
    "        image = read_image(img_path)  # read_image: 이미지를 텐서로 변환\n",
    "        label = self.img_labels.iloc[idx, 1] # label을 가져옴\n",
    "        if self.transform:    # transform=True, target_transform=True 인 경우 텐서이미지와 라벨을 dict형으로 반환\n",
    "            image = self.transform(image)\n",
    "        if self.target_transform:\n",
    "            label = self.target_transform(label)\n",
    "        return image, label"
   ]
  },
  {
   "attachments": {},
   "cell_type": "markdown",
   "metadata": {},
   "source": [
    "### DataLoader로 학습용 데이터 준비하기"
   ]
  },
  {
   "cell_type": "code",
   "execution_count": 4,
   "metadata": {},
   "outputs": [],
   "source": [
    "# Dataset: 데이터셋의 피쳐와 라벨을 지정\n",
    "# DataLoader: Dataset에 미니배치 및 셔플 설정\n",
    "from torch.utils.data import DataLoader\n",
    "\n",
    "train_dataloader = DataLoader(training_data, batch_size=64, shuffle=True)\n",
    "test_dataloader = DataLoader(test_data, batch_size=64, shuffle=True)\n"
   ]
  }
 ],
 "metadata": {
  "kernelspec": {
   "display_name": "base",
   "language": "python",
   "name": "python3"
  },
  "language_info": {
   "codemirror_mode": {
    "name": "ipython",
    "version": 3
   },
   "file_extension": ".py",
   "mimetype": "text/x-python",
   "name": "python",
   "nbconvert_exporter": "python",
   "pygments_lexer": "ipython3",
   "version": "3.9.13"
  },
  "orig_nbformat": 4,
  "vscode": {
   "interpreter": {
    "hash": "59c86215cb6667c49c42aaf9f4968b164f63cbe3d18b8d322d177a685e6eefb7"
   }
  }
 },
 "nbformat": 4,
 "nbformat_minor": 2
}
